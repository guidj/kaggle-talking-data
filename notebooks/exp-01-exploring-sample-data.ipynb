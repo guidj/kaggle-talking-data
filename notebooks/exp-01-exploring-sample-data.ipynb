{
 "cells": [
  {
   "cell_type": "code",
   "execution_count": 1,
   "metadata": {
    "collapsed": true
   },
   "outputs": [],
   "source": [
    "import numpy as np\n",
    "import sklearn as sk\n",
    "import pandas as pd"
   ]
  },
  {
   "cell_type": "code",
   "execution_count": 2,
   "metadata": {
    "collapsed": true
   },
   "outputs": [],
   "source": [
    "import os\n",
    "import os.path\n",
    "import sys\n",
    "import datetime\n",
    "import hashlib"
   ]
  },
  {
   "cell_type": "code",
   "execution_count": 3,
   "metadata": {
    "collapsed": true
   },
   "outputs": [],
   "source": [
    "from IPython.core.interactiveshell import InteractiveShell\n",
    "InteractiveShell.ast_node_interactivity = \"all\""
   ]
  },
  {
   "cell_type": "code",
   "execution_count": 4,
   "metadata": {
    "collapsed": true
   },
   "outputs": [],
   "source": [
    "np.random.seed(137)"
   ]
  },
  {
   "cell_type": "markdown",
   "metadata": {},
   "source": [
    "Features/Y\n",
    "\n",
    "  - ip: ip address of click.\n",
    "  - app: app id for marketing.\n",
    "  - device: device type id of user mobile phone (e.g., iphone 6 plus, iphone 7, huawei mate 7, etc.)\n",
    "  - os: os version id of user mobile phone\n",
    "  - channel: channel id of mobile ad publisher\n",
    "  - click_time: timestamp of click (UTC)\n",
    "  - attributed_time: if user download the app for after clicking an ad, this is the time of the app download\n",
    "  - is_attributed: the target that is to be predicted, indicating the app was downloaded"
   ]
  },
  {
   "cell_type": "code",
   "execution_count": 5,
   "metadata": {
    "collapsed": true
   },
   "outputs": [],
   "source": [
    "DATA = {\n",
    "    'train-sample': '../data/mnt/ssd/kaggle-talkingdata2/competition_files/train_sample.csv',\n",
    "}\n",
    "\n",
    "COLS_ID = ['ip', 'app', 'os', 'device', 'channel']\n",
    "COLS_SIG = ['app', 'os', 'device', 'channel']\n",
    "COLS_Y = ['is_attributed']\n",
    "COLS_DT = ['click_time', 'attributed_time']\n",
    "COLS = set(COLS_ID + COLS_Y + COLS_DT)\n",
    "\n",
    "def loadframe(frame):\n",
    "    \n",
    "    filepath = DATA[frame]\n",
    "    \n",
    "    return pd.read_csv(filepath)\n",
    "    "
   ]
  },
  {
   "cell_type": "code",
   "execution_count": 6,
   "metadata": {},
   "outputs": [
    {
     "data": {
      "text/html": [
       "<div>\n",
       "<style>\n",
       "    .dataframe thead tr:only-child th {\n",
       "        text-align: right;\n",
       "    }\n",
       "\n",
       "    .dataframe thead th {\n",
       "        text-align: left;\n",
       "    }\n",
       "\n",
       "    .dataframe tbody tr th {\n",
       "        vertical-align: top;\n",
       "    }\n",
       "</style>\n",
       "<table border=\"1\" class=\"dataframe\">\n",
       "  <thead>\n",
       "    <tr style=\"text-align: right;\">\n",
       "      <th></th>\n",
       "      <th>ip</th>\n",
       "      <th>app</th>\n",
       "      <th>device</th>\n",
       "      <th>os</th>\n",
       "      <th>channel</th>\n",
       "      <th>click_time</th>\n",
       "      <th>attributed_time</th>\n",
       "      <th>is_attributed</th>\n",
       "    </tr>\n",
       "  </thead>\n",
       "  <tbody>\n",
       "    <tr>\n",
       "      <th>0</th>\n",
       "      <td>87540</td>\n",
       "      <td>12</td>\n",
       "      <td>1</td>\n",
       "      <td>13</td>\n",
       "      <td>497</td>\n",
       "      <td>2017-11-07 09:30:38</td>\n",
       "      <td>NaN</td>\n",
       "      <td>0</td>\n",
       "    </tr>\n",
       "    <tr>\n",
       "      <th>1</th>\n",
       "      <td>105560</td>\n",
       "      <td>25</td>\n",
       "      <td>1</td>\n",
       "      <td>17</td>\n",
       "      <td>259</td>\n",
       "      <td>2017-11-07 13:40:27</td>\n",
       "      <td>NaN</td>\n",
       "      <td>0</td>\n",
       "    </tr>\n",
       "    <tr>\n",
       "      <th>2</th>\n",
       "      <td>101424</td>\n",
       "      <td>12</td>\n",
       "      <td>1</td>\n",
       "      <td>19</td>\n",
       "      <td>212</td>\n",
       "      <td>2017-11-07 18:05:24</td>\n",
       "      <td>NaN</td>\n",
       "      <td>0</td>\n",
       "    </tr>\n",
       "    <tr>\n",
       "      <th>3</th>\n",
       "      <td>94584</td>\n",
       "      <td>13</td>\n",
       "      <td>1</td>\n",
       "      <td>13</td>\n",
       "      <td>477</td>\n",
       "      <td>2017-11-07 04:58:08</td>\n",
       "      <td>NaN</td>\n",
       "      <td>0</td>\n",
       "    </tr>\n",
       "    <tr>\n",
       "      <th>4</th>\n",
       "      <td>68413</td>\n",
       "      <td>12</td>\n",
       "      <td>1</td>\n",
       "      <td>1</td>\n",
       "      <td>178</td>\n",
       "      <td>2017-11-09 09:00:09</td>\n",
       "      <td>NaN</td>\n",
       "      <td>0</td>\n",
       "    </tr>\n",
       "  </tbody>\n",
       "</table>\n",
       "</div>"
      ],
      "text/plain": [
       "       ip  app  device  os  channel           click_time attributed_time  \\\n",
       "0   87540   12       1  13      497  2017-11-07 09:30:38             NaN   \n",
       "1  105560   25       1  17      259  2017-11-07 13:40:27             NaN   \n",
       "2  101424   12       1  19      212  2017-11-07 18:05:24             NaN   \n",
       "3   94584   13       1  13      477  2017-11-07 04:58:08             NaN   \n",
       "4   68413   12       1   1      178  2017-11-09 09:00:09             NaN   \n",
       "\n",
       "   is_attributed  \n",
       "0              0  \n",
       "1              0  \n",
       "2              0  \n",
       "3              0  \n",
       "4              0  "
      ]
     },
     "execution_count": 6,
     "metadata": {},
     "output_type": "execute_result"
    }
   ],
   "source": [
    "df_train_sample = loadframe('train-sample')\n",
    "df_train_sample.head()"
   ]
  },
  {
   "cell_type": "code",
   "execution_count": 7,
   "metadata": {},
   "outputs": [
    {
     "data": {
      "text/plain": [
       "(100000, 8)"
      ]
     },
     "execution_count": 7,
     "metadata": {},
     "output_type": "execute_result"
    }
   ],
   "source": [
    "df_train_sample.shape"
   ]
  },
  {
   "cell_type": "code",
   "execution_count": 8,
   "metadata": {},
   "outputs": [
    {
     "name": "stdout",
     "output_type": "stream",
     "text": [
      "There are at least 364757 ip(s)\n",
      "There are at least 551 app(s)\n",
      "There are at least 866 os(s)\n",
      "There are at least 3867 device(s)\n",
      "There are at least 498 channel(s)\n"
     ]
    }
   ],
   "source": [
    "for c in COLS_ID:\n",
    "    n = np.max(df_train_sample[c])\n",
    "    print('There are at least %s %s(s)' % (n, c))"
   ]
  },
  {
   "cell_type": "code",
   "execution_count": 9,
   "metadata": {
    "collapsed": true
   },
   "outputs": [],
   "source": [
    "def preproc(df):\n",
    "    \n",
    "    new_df = df.copy()\n",
    "    for c in COLS:\n",
    "        if c in COLS_DT:\n",
    "            new_df[c] = pd.to_datetime(df[c], format='%Y-%m-%d %H:%M:%S', exact=True, errors='ignore')\n",
    "    return new_df"
   ]
  },
  {
   "cell_type": "code",
   "execution_count": 10,
   "metadata": {},
   "outputs": [
    {
     "data": {
      "text/html": [
       "<div>\n",
       "<style>\n",
       "    .dataframe thead tr:only-child th {\n",
       "        text-align: right;\n",
       "    }\n",
       "\n",
       "    .dataframe thead th {\n",
       "        text-align: left;\n",
       "    }\n",
       "\n",
       "    .dataframe tbody tr th {\n",
       "        vertical-align: top;\n",
       "    }\n",
       "</style>\n",
       "<table border=\"1\" class=\"dataframe\">\n",
       "  <thead>\n",
       "    <tr style=\"text-align: right;\">\n",
       "      <th></th>\n",
       "      <th>ip</th>\n",
       "      <th>app</th>\n",
       "      <th>device</th>\n",
       "      <th>os</th>\n",
       "      <th>channel</th>\n",
       "      <th>click_time</th>\n",
       "      <th>attributed_time</th>\n",
       "      <th>is_attributed</th>\n",
       "    </tr>\n",
       "  </thead>\n",
       "  <tbody>\n",
       "    <tr>\n",
       "      <th>0</th>\n",
       "      <td>87540</td>\n",
       "      <td>12</td>\n",
       "      <td>1</td>\n",
       "      <td>13</td>\n",
       "      <td>497</td>\n",
       "      <td>2017-11-07 09:30:38</td>\n",
       "      <td>NaT</td>\n",
       "      <td>0</td>\n",
       "    </tr>\n",
       "    <tr>\n",
       "      <th>1</th>\n",
       "      <td>105560</td>\n",
       "      <td>25</td>\n",
       "      <td>1</td>\n",
       "      <td>17</td>\n",
       "      <td>259</td>\n",
       "      <td>2017-11-07 13:40:27</td>\n",
       "      <td>NaT</td>\n",
       "      <td>0</td>\n",
       "    </tr>\n",
       "    <tr>\n",
       "      <th>2</th>\n",
       "      <td>101424</td>\n",
       "      <td>12</td>\n",
       "      <td>1</td>\n",
       "      <td>19</td>\n",
       "      <td>212</td>\n",
       "      <td>2017-11-07 18:05:24</td>\n",
       "      <td>NaT</td>\n",
       "      <td>0</td>\n",
       "    </tr>\n",
       "    <tr>\n",
       "      <th>3</th>\n",
       "      <td>94584</td>\n",
       "      <td>13</td>\n",
       "      <td>1</td>\n",
       "      <td>13</td>\n",
       "      <td>477</td>\n",
       "      <td>2017-11-07 04:58:08</td>\n",
       "      <td>NaT</td>\n",
       "      <td>0</td>\n",
       "    </tr>\n",
       "    <tr>\n",
       "      <th>4</th>\n",
       "      <td>68413</td>\n",
       "      <td>12</td>\n",
       "      <td>1</td>\n",
       "      <td>1</td>\n",
       "      <td>178</td>\n",
       "      <td>2017-11-09 09:00:09</td>\n",
       "      <td>NaT</td>\n",
       "      <td>0</td>\n",
       "    </tr>\n",
       "  </tbody>\n",
       "</table>\n",
       "</div>"
      ],
      "text/plain": [
       "       ip  app  device  os  channel          click_time attributed_time  \\\n",
       "0   87540   12       1  13      497 2017-11-07 09:30:38             NaT   \n",
       "1  105560   25       1  17      259 2017-11-07 13:40:27             NaT   \n",
       "2  101424   12       1  19      212 2017-11-07 18:05:24             NaT   \n",
       "3   94584   13       1  13      477 2017-11-07 04:58:08             NaT   \n",
       "4   68413   12       1   1      178 2017-11-09 09:00:09             NaT   \n",
       "\n",
       "   is_attributed  \n",
       "0              0  \n",
       "1              0  \n",
       "2              0  \n",
       "3              0  \n",
       "4              0  "
      ]
     },
     "execution_count": 10,
     "metadata": {},
     "output_type": "execute_result"
    }
   ],
   "source": [
    "df_train_sample_preproc = preproc(df_train_sample)\n",
    "df_train_sample_preproc.head()"
   ]
  },
  {
   "cell_type": "code",
   "execution_count": 11,
   "metadata": {
    "collapsed": true
   },
   "outputs": [],
   "source": [
    "def encode_datetime(dt):\n",
    "    \"\"\"\n",
    "    encode date-time into a vector\n",
    "    \"\"\"\n",
    "    \n",
    "    if pd.notnull(dt):\n",
    "        enc = np.array([dt.month, dt.hour, dt.minute, dt.second, dt.isoweekday()])\n",
    "    else:\n",
    "        enc = np.zeros((5,))\n",
    "    \n",
    "    return enc"
   ]
  },
  {
   "cell_type": "code",
   "execution_count": 12,
   "metadata": {
    "collapsed": true
   },
   "outputs": [],
   "source": [
    "\n",
    "def one_hot(size, index):\n",
    "    array = np.zeros(size)\n",
    "    array[index] = 1.\n",
    "    return array\n",
    "\n",
    "def hashing_functions(n = 4):\n",
    "    \n",
    "    fns = []\n",
    "    \n",
    "    for _ in range(n):\n",
    "        a, b = np.random.randint(100), np.random.randint(100)\n",
    "        fn = lambda x, m=a, c=b: (m * x + c) & ((1 << 32) - 1)\n",
    "        fns.append(fn)\n",
    "\n",
    "    return fns\n",
    "\n",
    "def feature_hashing(col, hfs, bsize = 4):\n",
    "    \"\"\"\n",
    "    Hashing Trick for categorical variables;\n",
    "    Simple implementation, relying on variable encoding;\n",
    "    Better solution might be to use more advanced hashing function\n",
    "    \"\"\"\n",
    "    hashes = []\n",
    "    \n",
    "    for hf in hfs:\n",
    "        hashes.append(col.map(lambda x: one_hot(bsize, hf(x) % bsize) if pd.notnull(x) else np.zeros(bsize)))\n",
    "        \n",
    "    hashedc = np.sum(hashes, axis = 0)\n",
    "    \n",
    "    L = list(hashedc)\n",
    "    A = L\n",
    "    data_frame = pd.DataFrame(L)\n",
    "    return pd.Series(A, index=data_frame.index)    "
   ]
  },
  {
   "cell_type": "code",
   "execution_count": 14,
   "metadata": {
    "collapsed": true
   },
   "outputs": [],
   "source": [
    "def generate_features(df):\n",
    "    \n",
    "    new_df = df.copy()\n",
    "    hfs = hashing_functions(n = 16)\n",
    "    \n",
    "    for c in COLS:\n",
    "        print('Feature engineering: %s' % c)\n",
    "        if c in COLS_DT:\n",
    "            new_col = '%s_enc' % c\n",
    "            new_df[new_col] = df[c].map(lambda x: encode_datetime(x))\n",
    "        elif c in COLS_SIG:\n",
    "            new_col = '%s_ht' % c\n",
    "            new_df[new_col] = feature_hashing(df[c], hfs, bsize=8)\n",
    "\n",
    "    return new_df"
   ]
  },
  {
   "cell_type": "code",
   "execution_count": 15,
   "metadata": {},
   "outputs": [
    {
     "name": "stdout",
     "output_type": "stream",
     "text": [
      "Feature engineering: ip\n",
      "Feature engineering: os\n",
      "Feature engineering: is_attributed\n",
      "Feature engineering: attributed_time\n",
      "Feature engineering: app\n",
      "Feature engineering: channel\n",
      "Feature engineering: click_time\n",
      "Feature engineering: device\n",
      "CPU times: user 27.1 s, sys: 1.9 s, total: 29 s\n",
      "Wall time: 29.8 s\n"
     ]
    }
   ],
   "source": [
    "%%time\n",
    "df_features = generate_features(df_train_sample_preproc)"
   ]
  },
  {
   "cell_type": "code",
   "execution_count": 16,
   "metadata": {},
   "outputs": [
    {
     "data": {
      "text/html": [
       "<div>\n",
       "<style>\n",
       "    .dataframe thead tr:only-child th {\n",
       "        text-align: right;\n",
       "    }\n",
       "\n",
       "    .dataframe thead th {\n",
       "        text-align: left;\n",
       "    }\n",
       "\n",
       "    .dataframe tbody tr th {\n",
       "        vertical-align: top;\n",
       "    }\n",
       "</style>\n",
       "<table border=\"1\" class=\"dataframe\">\n",
       "  <thead>\n",
       "    <tr style=\"text-align: right;\">\n",
       "      <th></th>\n",
       "      <th>ip</th>\n",
       "      <th>app</th>\n",
       "      <th>device</th>\n",
       "      <th>os</th>\n",
       "      <th>channel</th>\n",
       "      <th>click_time</th>\n",
       "      <th>attributed_time</th>\n",
       "      <th>is_attributed</th>\n",
       "      <th>os_ht</th>\n",
       "      <th>attributed_time_enc</th>\n",
       "      <th>app_ht</th>\n",
       "      <th>channel_ht</th>\n",
       "      <th>click_time_enc</th>\n",
       "      <th>device_ht</th>\n",
       "    </tr>\n",
       "  </thead>\n",
       "  <tbody>\n",
       "    <tr>\n",
       "      <th>0</th>\n",
       "      <td>87540</td>\n",
       "      <td>12</td>\n",
       "      <td>1</td>\n",
       "      <td>13</td>\n",
       "      <td>497</td>\n",
       "      <td>2017-11-07 09:30:38</td>\n",
       "      <td>NaT</td>\n",
       "      <td>0</td>\n",
       "      <td>[2.0, 2.0, 3.0, 2.0, 3.0, 1.0, 2.0, 1.0]</td>\n",
       "      <td>[0.0, 0.0, 0.0, 0.0, 0.0]</td>\n",
       "      <td>[3.0, 3.0, 1.0, 2.0, 1.0, 1.0, 2.0, 3.0]</td>\n",
       "      <td>[2.0, 1.0, 2.0, 3.0, 3.0, 2.0, 3.0, 0.0]</td>\n",
       "      <td>[11, 9, 30, 38, 2]</td>\n",
       "      <td>[2.0, 1.0, 2.0, 3.0, 3.0, 2.0, 3.0, 0.0]</td>\n",
       "    </tr>\n",
       "    <tr>\n",
       "      <th>1</th>\n",
       "      <td>105560</td>\n",
       "      <td>25</td>\n",
       "      <td>1</td>\n",
       "      <td>17</td>\n",
       "      <td>259</td>\n",
       "      <td>2017-11-07 13:40:27</td>\n",
       "      <td>NaT</td>\n",
       "      <td>0</td>\n",
       "      <td>[2.0, 1.0, 2.0, 3.0, 3.0, 2.0, 3.0, 0.0]</td>\n",
       "      <td>[0.0, 0.0, 0.0, 0.0, 0.0]</td>\n",
       "      <td>[2.0, 1.0, 2.0, 3.0, 3.0, 2.0, 3.0, 0.0]</td>\n",
       "      <td>[3.0, 2.0, 2.0, 2.0, 3.0, 1.0, 2.0, 1.0]</td>\n",
       "      <td>[11, 13, 40, 27, 2]</td>\n",
       "      <td>[2.0, 1.0, 2.0, 3.0, 3.0, 2.0, 3.0, 0.0]</td>\n",
       "    </tr>\n",
       "    <tr>\n",
       "      <th>2</th>\n",
       "      <td>101424</td>\n",
       "      <td>12</td>\n",
       "      <td>1</td>\n",
       "      <td>19</td>\n",
       "      <td>212</td>\n",
       "      <td>2017-11-07 18:05:24</td>\n",
       "      <td>NaT</td>\n",
       "      <td>0</td>\n",
       "      <td>[3.0, 2.0, 2.0, 2.0, 3.0, 1.0, 2.0, 1.0]</td>\n",
       "      <td>[0.0, 0.0, 0.0, 0.0, 0.0]</td>\n",
       "      <td>[3.0, 3.0, 1.0, 2.0, 1.0, 1.0, 2.0, 3.0]</td>\n",
       "      <td>[3.0, 3.0, 1.0, 2.0, 1.0, 1.0, 2.0, 3.0]</td>\n",
       "      <td>[11, 18, 5, 24, 2]</td>\n",
       "      <td>[2.0, 1.0, 2.0, 3.0, 3.0, 2.0, 3.0, 0.0]</td>\n",
       "    </tr>\n",
       "    <tr>\n",
       "      <th>3</th>\n",
       "      <td>94584</td>\n",
       "      <td>13</td>\n",
       "      <td>1</td>\n",
       "      <td>13</td>\n",
       "      <td>477</td>\n",
       "      <td>2017-11-07 04:58:08</td>\n",
       "      <td>NaT</td>\n",
       "      <td>0</td>\n",
       "      <td>[2.0, 2.0, 3.0, 2.0, 3.0, 1.0, 2.0, 1.0]</td>\n",
       "      <td>[0.0, 0.0, 0.0, 0.0, 0.0]</td>\n",
       "      <td>[2.0, 2.0, 3.0, 2.0, 3.0, 1.0, 2.0, 1.0]</td>\n",
       "      <td>[2.0, 2.0, 3.0, 2.0, 3.0, 1.0, 2.0, 1.0]</td>\n",
       "      <td>[11, 4, 58, 8, 2]</td>\n",
       "      <td>[2.0, 1.0, 2.0, 3.0, 3.0, 2.0, 3.0, 0.0]</td>\n",
       "    </tr>\n",
       "    <tr>\n",
       "      <th>4</th>\n",
       "      <td>68413</td>\n",
       "      <td>12</td>\n",
       "      <td>1</td>\n",
       "      <td>1</td>\n",
       "      <td>178</td>\n",
       "      <td>2017-11-09 09:00:09</td>\n",
       "      <td>NaT</td>\n",
       "      <td>0</td>\n",
       "      <td>[2.0, 1.0, 2.0, 3.0, 3.0, 2.0, 3.0, 0.0]</td>\n",
       "      <td>[0.0, 0.0, 0.0, 0.0, 0.0]</td>\n",
       "      <td>[3.0, 3.0, 1.0, 2.0, 1.0, 1.0, 2.0, 3.0]</td>\n",
       "      <td>[2.0, 2.0, 1.0, 3.0, 2.0, 1.0, 2.0, 3.0]</td>\n",
       "      <td>[11, 9, 0, 9, 4]</td>\n",
       "      <td>[2.0, 1.0, 2.0, 3.0, 3.0, 2.0, 3.0, 0.0]</td>\n",
       "    </tr>\n",
       "  </tbody>\n",
       "</table>\n",
       "</div>"
      ],
      "text/plain": [
       "       ip  app  device  os  channel          click_time attributed_time  \\\n",
       "0   87540   12       1  13      497 2017-11-07 09:30:38             NaT   \n",
       "1  105560   25       1  17      259 2017-11-07 13:40:27             NaT   \n",
       "2  101424   12       1  19      212 2017-11-07 18:05:24             NaT   \n",
       "3   94584   13       1  13      477 2017-11-07 04:58:08             NaT   \n",
       "4   68413   12       1   1      178 2017-11-09 09:00:09             NaT   \n",
       "\n",
       "   is_attributed                                     os_ht  \\\n",
       "0              0  [2.0, 2.0, 3.0, 2.0, 3.0, 1.0, 2.0, 1.0]   \n",
       "1              0  [2.0, 1.0, 2.0, 3.0, 3.0, 2.0, 3.0, 0.0]   \n",
       "2              0  [3.0, 2.0, 2.0, 2.0, 3.0, 1.0, 2.0, 1.0]   \n",
       "3              0  [2.0, 2.0, 3.0, 2.0, 3.0, 1.0, 2.0, 1.0]   \n",
       "4              0  [2.0, 1.0, 2.0, 3.0, 3.0, 2.0, 3.0, 0.0]   \n",
       "\n",
       "         attributed_time_enc                                    app_ht  \\\n",
       "0  [0.0, 0.0, 0.0, 0.0, 0.0]  [3.0, 3.0, 1.0, 2.0, 1.0, 1.0, 2.0, 3.0]   \n",
       "1  [0.0, 0.0, 0.0, 0.0, 0.0]  [2.0, 1.0, 2.0, 3.0, 3.0, 2.0, 3.0, 0.0]   \n",
       "2  [0.0, 0.0, 0.0, 0.0, 0.0]  [3.0, 3.0, 1.0, 2.0, 1.0, 1.0, 2.0, 3.0]   \n",
       "3  [0.0, 0.0, 0.0, 0.0, 0.0]  [2.0, 2.0, 3.0, 2.0, 3.0, 1.0, 2.0, 1.0]   \n",
       "4  [0.0, 0.0, 0.0, 0.0, 0.0]  [3.0, 3.0, 1.0, 2.0, 1.0, 1.0, 2.0, 3.0]   \n",
       "\n",
       "                                 channel_ht       click_time_enc  \\\n",
       "0  [2.0, 1.0, 2.0, 3.0, 3.0, 2.0, 3.0, 0.0]   [11, 9, 30, 38, 2]   \n",
       "1  [3.0, 2.0, 2.0, 2.0, 3.0, 1.0, 2.0, 1.0]  [11, 13, 40, 27, 2]   \n",
       "2  [3.0, 3.0, 1.0, 2.0, 1.0, 1.0, 2.0, 3.0]   [11, 18, 5, 24, 2]   \n",
       "3  [2.0, 2.0, 3.0, 2.0, 3.0, 1.0, 2.0, 1.0]    [11, 4, 58, 8, 2]   \n",
       "4  [2.0, 2.0, 1.0, 3.0, 2.0, 1.0, 2.0, 3.0]     [11, 9, 0, 9, 4]   \n",
       "\n",
       "                                  device_ht  \n",
       "0  [2.0, 1.0, 2.0, 3.0, 3.0, 2.0, 3.0, 0.0]  \n",
       "1  [2.0, 1.0, 2.0, 3.0, 3.0, 2.0, 3.0, 0.0]  \n",
       "2  [2.0, 1.0, 2.0, 3.0, 3.0, 2.0, 3.0, 0.0]  \n",
       "3  [2.0, 1.0, 2.0, 3.0, 3.0, 2.0, 3.0, 0.0]  \n",
       "4  [2.0, 1.0, 2.0, 3.0, 3.0, 2.0, 3.0, 0.0]  "
      ]
     },
     "execution_count": 16,
     "metadata": {},
     "output_type": "execute_result"
    }
   ],
   "source": [
    "df_features.head()"
   ]
  },
  {
   "cell_type": "code",
   "execution_count": 101,
   "metadata": {
    "collapsed": true
   },
   "outputs": [],
   "source": [
    "def model_data(df):\n",
    "    cols = sorted([c for c in df.columns if (c.endswith('_ht') or c.endswith('_enc'))])\n",
    "    data = [df[c] for c in cols]\n",
    "    print('X:', cols)\n",
    "    X = np.array([r for r in map(lambda x: np.concatenate(x), [x for x in zip(*data)])], dtype=np.float32)\n",
    "    Y = df['is_attributed'].values\n",
    "    \n",
    "    return X, Y"
   ]
  },
  {
   "cell_type": "code",
   "execution_count": 102,
   "metadata": {},
   "outputs": [
    {
     "name": "stdout",
     "output_type": "stream",
     "text": [
      "X: ['app_ht', 'attributed_time_enc', 'channel_ht', 'click_time_enc', 'device_ht', 'os_ht']\n"
     ]
    },
    {
     "data": {
      "text/plain": [
       "array([[  3.,   3.,   1.,   2.,   1.,   1.,   2.,   3.,   0.,   0.,   0.,\n",
       "          0.,   0.,   2.,   1.,   2.,   3.,   3.,   2.,   3.,   0.,  11.,\n",
       "          9.,  30.,  38.,   2.,   2.,   1.,   2.,   3.,   3.,   2.,   3.,\n",
       "          0.,   2.,   2.,   3.,   2.,   3.,   1.,   2.,   1.],\n",
       "       [  2.,   1.,   2.,   3.,   3.,   2.,   3.,   0.,   0.,   0.,   0.,\n",
       "          0.,   0.,   3.,   2.,   2.,   2.,   3.,   1.,   2.,   1.,  11.,\n",
       "         13.,  40.,  27.,   2.,   2.,   1.,   2.,   3.,   3.,   2.,   3.,\n",
       "          0.,   2.,   1.,   2.,   3.,   3.,   2.,   3.,   0.]], dtype=float32)"
      ]
     },
     "execution_count": 102,
     "metadata": {},
     "output_type": "execute_result"
    },
    {
     "data": {
      "text/plain": [
       "array([0, 0])"
      ]
     },
     "execution_count": 102,
     "metadata": {},
     "output_type": "execute_result"
    }
   ],
   "source": [
    "X_train, Y_train = model_data(df_features)\n",
    "X_train[:2, :]\n",
    "Y_train[:2]"
   ]
  },
  {
   "cell_type": "code",
   "execution_count": 103,
   "metadata": {},
   "outputs": [
    {
     "data": {
      "text/plain": [
       "(100000, 42)"
      ]
     },
     "execution_count": 103,
     "metadata": {},
     "output_type": "execute_result"
    },
    {
     "data": {
      "text/plain": [
       "(100000,)"
      ]
     },
     "execution_count": 103,
     "metadata": {},
     "output_type": "execute_result"
    }
   ],
   "source": [
    "X_train.shape\n",
    "Y_train.shape"
   ]
  }
 ],
 "metadata": {
  "kernelspec": {
   "display_name": "Python 3",
   "language": "python",
   "name": "python3"
  },
  "language_info": {
   "codemirror_mode": {
    "name": "ipython",
    "version": 3
   },
   "file_extension": ".py",
   "mimetype": "text/x-python",
   "name": "python",
   "nbconvert_exporter": "python",
   "pygments_lexer": "ipython3",
   "version": "3.6.3"
  }
 },
 "nbformat": 4,
 "nbformat_minor": 2
}
